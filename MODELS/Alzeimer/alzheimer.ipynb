{
  "cells": [
    {
      "cell_type": "code",
      "execution_count": 19,
      "metadata": {
        "id": "VBeXUIKnXIDG"
      },
      "outputs": [],
      "source": [
        "import torch\n",
        "import torch.nn as nn\n",
        "from torchvision import datasets, transforms,models\n",
        "from torch.utils.data import DataLoader\n"
      ]
    },
    {
      "cell_type": "code",
      "execution_count": 20,
      "metadata": {
        "id": "8l5VdQntYkD-"
      },
      "outputs": [],
      "source": [
        "transform = transforms.Compose([\n",
        "    transforms.Resize((224, 224)),\n",
        "    transforms.ToTensor(),\n",
        "    transforms.Normalize(mean=[0.5, 0.5, 0.5], std=[0.5, 0.5, 0.5])\n",
        "])"
      ]
    },
    {
      "cell_type": "code",
      "execution_count": 21,
      "metadata": {
        "id": "vgZzo4AwYqEA"
      },
      "outputs": [],
      "source": [
        "train_data = datasets.ImageFolder(\n",
        "    root=r\"alzheimer\\Combined Dataset\\train\",\n",
        "    transform=transform\n",
        ")\n",
        "\n",
        "test_data = datasets.ImageFolder(\n",
        "    root=r\"alzheimer\\Combined Dataset\\test\",\n",
        "    transform=transform\n",
        ")\n"
      ]
    },
    {
      "cell_type": "code",
      "execution_count": 22,
      "metadata": {
        "id": "Y0TW0z6QfhSD"
      },
      "outputs": [],
      "source": [
        "train_loader = DataLoader(\n",
        "    train_data, batch_size=8, shuffle=True, num_workers=0, pin_memory=True\n",
        ")\n",
        "test_loader = DataLoader(\n",
        "    test_data, batch_size=8, num_workers=0, pin_memory=True\n",
        ")"
      ]
    },
    {
      "cell_type": "code",
      "execution_count": 23,
      "metadata": {
        "id": "L0YYkFYtfrho"
      },
      "outputs": [],
      "source": [
        "class Alzheimer(nn.Module):\n",
        "  def __init__(self):\n",
        "    super().__init__()\n",
        "    self.base = models.resnet18(pretrained=True)\n",
        "    self.base.fc = nn.Linear(self.base.fc.in_features,4)\n",
        "  def forward(self,x):\n",
        "    return self.base(x)"
      ]
    },
    {
      "cell_type": "code",
      "execution_count": 24,
      "metadata": {
        "colab": {
          "base_uri": "https://localhost:8080/"
        },
        "id": "OHVmOdRcftm1",
        "outputId": "961c8846-8538-4848-fddc-da6601aaefae"
      },
      "outputs": [],
      "source": [
        "device = torch.device(\"cuda\" if torch.cuda.is_available() else \"cpu\")\n",
        "model = Alzheimer().to(device)\n",
        "optimizer = torch.optim.AdamW(model.parameters(), lr=1e-3, weight_decay=1e-4)\n",
        "loss_fn = nn.CrossEntropyLoss()"
      ]
    },
    {
      "cell_type": "code",
      "execution_count": 25,
      "metadata": {
        "colab": {
          "base_uri": "https://localhost:8080/"
        },
        "id": "aB5OyEN8f1rV",
        "outputId": "79996062-87d5-4f4b-804a-bd224ea453a3"
      },
      "outputs": [
        {
          "name": "stdout",
          "output_type": "stream",
          "text": [
            "Requirement already satisfied: tqdm in e:\\alzemier_analysis\\venv\\lib\\site-packages (4.67.1)\n",
            "Requirement already satisfied: colorama in e:\\alzemier_analysis\\venv\\lib\\site-packages (from tqdm) (0.4.6)\n"
          ]
        }
      ],
      "source": [
        "!pip install tqdm\n"
      ]
    },
    {
      "cell_type": "code",
      "execution_count": 26,
      "metadata": {
        "id": "Q4WBfHJMf5hw"
      },
      "outputs": [],
      "source": [
        "from tqdm import tqdm\n",
        "def train():\n",
        "  model.train()\n",
        "  total_loss = 0\n",
        "  for images,labels in tqdm(train_loader, desc=\"Training\", leave=False):\n",
        "    images,labels = images.to(device),labels.to(device)\n",
        "    optimizer.zero_grad()\n",
        "    output = model(images)\n",
        "    loss = loss_fn(output,labels)\n",
        "    loss.backward()\n",
        "    optimizer.step()\n",
        "    total_loss += loss.item()\n",
        "  return total_loss/len(train_loader)\n"
      ]
    },
    {
      "cell_type": "code",
      "execution_count": 27,
      "metadata": {
        "id": "6RZraTjggAML"
      },
      "outputs": [],
      "source": [
        "def evaluate():\n",
        "  model.eval()\n",
        "  correct,total = 0,0\n",
        "  with torch.no_grad():\n",
        "    for images, labels in tqdm(test_loader, desc=\"Evaluating\", leave=False):\n",
        "      images,labels = images.to(device),labels.to(device)\n",
        "      preds = torch.argmax(model(images),dim=1)\n",
        "      correct += (preds==labels).sum().item()\n",
        "      total += labels.size(0)\n",
        "  return correct/total"
      ]
    },
    {
      "cell_type": "code",
      "execution_count": 28,
      "metadata": {
        "colab": {
          "base_uri": "https://localhost:8080/"
        },
        "id": "dbVLG8BdgDO2",
        "outputId": "5de7ed98-7c41-43dd-fee3-8d2b3522e5a0"
      },
      "outputs": [
        {
          "name": "stderr",
          "output_type": "stream",
          "text": [
            "Epochs:   3%|▎         | 1/29 [02:48<1:18:24, 168.01s/it]"
          ]
        },
        {
          "name": "stdout",
          "output_type": "stream",
          "text": [
            "Epoch: 1, Loss: 0.5707, Accuracy: 0.6693\n"
          ]
        },
        {
          "name": "stderr",
          "output_type": "stream",
          "text": [
            "Epochs:   7%|▋         | 2/29 [04:37<1:00:02, 133.43s/it]"
          ]
        },
        {
          "name": "stdout",
          "output_type": "stream",
          "text": [
            "Epoch: 2, Loss: 0.3090, Accuracy: 0.7224\n"
          ]
        },
        {
          "name": "stderr",
          "output_type": "stream",
          "text": [
            "Epochs:  10%|█         | 3/29 [06:30<53:46, 124.08s/it]  "
          ]
        },
        {
          "name": "stdout",
          "output_type": "stream",
          "text": [
            "Epoch: 3, Loss: 0.1926, Accuracy: 0.8554\n"
          ]
        },
        {
          "name": "stderr",
          "output_type": "stream",
          "text": [
            "Epochs:  14%|█▍        | 4/29 [08:18<49:10, 118.02s/it]"
          ]
        },
        {
          "name": "stdout",
          "output_type": "stream",
          "text": [
            "Epoch: 4, Loss: 0.1137, Accuracy: 0.9296\n"
          ]
        },
        {
          "name": "stderr",
          "output_type": "stream",
          "text": [
            "Epochs:  17%|█▋        | 5/29 [10:07<45:51, 114.63s/it]"
          ]
        },
        {
          "name": "stdout",
          "output_type": "stream",
          "text": [
            "Epoch: 5, Loss: 0.0822, Accuracy: 0.9038\n"
          ]
        },
        {
          "name": "stderr",
          "output_type": "stream",
          "text": [
            "Epochs:  21%|██        | 6/29 [12:03<44:07, 115.12s/it]"
          ]
        },
        {
          "name": "stdout",
          "output_type": "stream",
          "text": [
            "Epoch: 6, Loss: 0.0628, Accuracy: 0.9468\n"
          ]
        },
        {
          "name": "stderr",
          "output_type": "stream",
          "text": [
            "Epochs:  24%|██▍       | 7/29 [13:51<41:21, 112.80s/it]"
          ]
        },
        {
          "name": "stdout",
          "output_type": "stream",
          "text": [
            "Epoch: 7, Loss: 0.0585, Accuracy: 0.9476\n"
          ]
        },
        {
          "name": "stderr",
          "output_type": "stream",
          "text": [
            "Epochs:  28%|██▊       | 8/29 [15:39<38:57, 111.32s/it]"
          ]
        },
        {
          "name": "stdout",
          "output_type": "stream",
          "text": [
            "Epoch: 8, Loss: 0.0416, Accuracy: 0.9609\n"
          ]
        },
        {
          "name": "stderr",
          "output_type": "stream",
          "text": [
            "Epochs:  31%|███       | 9/29 [17:27<36:42, 110.14s/it]"
          ]
        },
        {
          "name": "stdout",
          "output_type": "stream",
          "text": [
            "Epoch: 9, Loss: 0.0477, Accuracy: 0.9679\n"
          ]
        },
        {
          "name": "stderr",
          "output_type": "stream",
          "text": [
            "Epochs:  34%|███▍      | 10/29 [19:16<34:48, 109.90s/it]"
          ]
        },
        {
          "name": "stdout",
          "output_type": "stream",
          "text": [
            "Epoch: 10, Loss: 0.0385, Accuracy: 0.9703\n"
          ]
        },
        {
          "name": "stderr",
          "output_type": "stream",
          "text": [
            "Epochs:  38%|███▊      | 11/29 [21:06<32:58, 109.94s/it]"
          ]
        },
        {
          "name": "stdout",
          "output_type": "stream",
          "text": [
            "Epoch: 11, Loss: 0.0277, Accuracy: 0.9797\n"
          ]
        },
        {
          "name": "stderr",
          "output_type": "stream",
          "text": [
            "Epochs:  41%|████▏     | 12/29 [22:55<31:01, 109.49s/it]"
          ]
        },
        {
          "name": "stdout",
          "output_type": "stream",
          "text": [
            "Epoch: 12, Loss: 0.0313, Accuracy: 0.9758\n"
          ]
        },
        {
          "name": "stderr",
          "output_type": "stream",
          "text": [
            "Epochs:  45%|████▍     | 13/29 [24:43<29:05, 109.09s/it]"
          ]
        },
        {
          "name": "stdout",
          "output_type": "stream",
          "text": [
            "Epoch: 13, Loss: 0.0275, Accuracy: 0.9797\n"
          ]
        },
        {
          "name": "stderr",
          "output_type": "stream",
          "text": [
            "Epochs:  48%|████▊     | 14/29 [26:31<27:13, 108.87s/it]"
          ]
        },
        {
          "name": "stdout",
          "output_type": "stream",
          "text": [
            "Epoch: 14, Loss: 0.0323, Accuracy: 0.9765\n"
          ]
        },
        {
          "name": "stderr",
          "output_type": "stream",
          "text": [
            "Epochs:  52%|█████▏    | 15/29 [28:20<25:25, 108.99s/it]"
          ]
        },
        {
          "name": "stdout",
          "output_type": "stream",
          "text": [
            "Epoch: 15, Loss: 0.0171, Accuracy: 0.9789\n"
          ]
        },
        {
          "name": "stderr",
          "output_type": "stream",
          "text": [
            "Epochs:  55%|█████▌    | 16/29 [30:14<23:55, 110.45s/it]"
          ]
        },
        {
          "name": "stdout",
          "output_type": "stream",
          "text": [
            "Epoch: 16, Loss: 0.0078, Accuracy: 0.9382\n"
          ]
        },
        {
          "name": "stderr",
          "output_type": "stream",
          "text": [
            "Epochs:  59%|█████▊    | 17/29 [32:21<23:05, 115.42s/it]"
          ]
        },
        {
          "name": "stdout",
          "output_type": "stream",
          "text": [
            "Epoch: 17, Loss: 0.0342, Accuracy: 0.9633\n"
          ]
        },
        {
          "name": "stderr",
          "output_type": "stream",
          "text": [
            "Epochs:  62%|██████▏   | 18/29 [34:12<20:54, 114.03s/it]"
          ]
        },
        {
          "name": "stdout",
          "output_type": "stream",
          "text": [
            "Epoch: 18, Loss: 0.0154, Accuracy: 0.9750\n"
          ]
        },
        {
          "name": "stderr",
          "output_type": "stream",
          "text": [
            "Epochs:  66%|██████▌   | 19/29 [36:24<19:54, 119.43s/it]"
          ]
        },
        {
          "name": "stdout",
          "output_type": "stream",
          "text": [
            "Epoch: 19, Loss: 0.0227, Accuracy: 0.9484\n"
          ]
        },
        {
          "name": "stderr",
          "output_type": "stream",
          "text": [
            "Epochs:  69%|██████▉   | 20/29 [38:12<17:23, 115.94s/it]"
          ]
        },
        {
          "name": "stdout",
          "output_type": "stream",
          "text": [
            "Epoch: 20, Loss: 0.0121, Accuracy: 0.9758\n"
          ]
        },
        {
          "name": "stderr",
          "output_type": "stream",
          "text": [
            "Epochs:  72%|███████▏  | 21/29 [40:00<15:09, 113.67s/it]"
          ]
        },
        {
          "name": "stdout",
          "output_type": "stream",
          "text": [
            "Epoch: 21, Loss: 0.0166, Accuracy: 0.9734\n"
          ]
        },
        {
          "name": "stderr",
          "output_type": "stream",
          "text": [
            "Epochs:  76%|███████▌  | 22/29 [41:48<13:04, 112.02s/it]"
          ]
        },
        {
          "name": "stdout",
          "output_type": "stream",
          "text": [
            "Epoch: 22, Loss: 0.0129, Accuracy: 0.9664\n"
          ]
        },
        {
          "name": "stderr",
          "output_type": "stream",
          "text": [
            "Epochs:  79%|███████▉  | 23/29 [43:38<11:08, 111.43s/it]"
          ]
        },
        {
          "name": "stdout",
          "output_type": "stream",
          "text": [
            "Epoch: 23, Loss: 0.0164, Accuracy: 0.9906\n"
          ]
        },
        {
          "name": "stderr",
          "output_type": "stream",
          "text": [
            "Epochs:  83%|████████▎ | 24/29 [45:35<09:25, 113.05s/it]"
          ]
        },
        {
          "name": "stdout",
          "output_type": "stream",
          "text": [
            "Epoch: 24, Loss: 0.0138, Accuracy: 0.9922\n"
          ]
        },
        {
          "name": "stderr",
          "output_type": "stream",
          "text": [
            "Epochs:  86%|████████▌ | 25/29 [47:24<07:26, 111.61s/it]"
          ]
        },
        {
          "name": "stdout",
          "output_type": "stream",
          "text": [
            "Epoch: 25, Loss: 0.0061, Accuracy: 0.9578\n"
          ]
        },
        {
          "name": "stderr",
          "output_type": "stream",
          "text": [
            "Epochs:  90%|████████▉ | 26/29 [49:13<05:32, 110.93s/it]"
          ]
        },
        {
          "name": "stdout",
          "output_type": "stream",
          "text": [
            "Epoch: 26, Loss: 0.0225, Accuracy: 0.9593\n"
          ]
        },
        {
          "name": "stderr",
          "output_type": "stream",
          "text": [
            "Epochs:  93%|█████████▎| 27/29 [51:51<04:09, 124.96s/it]"
          ]
        },
        {
          "name": "stdout",
          "output_type": "stream",
          "text": [
            "Epoch: 27, Loss: 0.0096, Accuracy: 0.9601\n"
          ]
        },
        {
          "name": "stderr",
          "output_type": "stream",
          "text": [
            "Epochs:  97%|█████████▋| 28/29 [54:18<02:11, 131.69s/it]"
          ]
        },
        {
          "name": "stdout",
          "output_type": "stream",
          "text": [
            "Epoch: 28, Loss: 0.0115, Accuracy: 0.9820\n"
          ]
        },
        {
          "name": "stderr",
          "output_type": "stream",
          "text": [
            "Epochs: 100%|██████████| 29/29 [56:40<00:00, 117.26s/it]"
          ]
        },
        {
          "name": "stdout",
          "output_type": "stream",
          "text": [
            "Epoch: 29, Loss: 0.0032, Accuracy: 0.9750\n"
          ]
        },
        {
          "name": "stderr",
          "output_type": "stream",
          "text": [
            "\n"
          ]
        }
      ],
      "source": [
        "for epoch in tqdm(range(1, 30), desc=\"Epochs\"):\n",
        "  avg_loss = train()\n",
        "  acc = evaluate()\n",
        "  print(f\"Epoch: {epoch}, Loss: {avg_loss:.4f}, Accuracy: {acc:.4f}\")"
      ]
    },
    {
      "cell_type": "code",
      "execution_count": 29,
      "metadata": {
        "id": "AKAtQuqCgkww"
      },
      "outputs": [],
      "source": [
        "torch.save(model.state_dict(), \"Alzehimer.pth\")"
      ]
    },
    {
      "cell_type": "code",
      "execution_count": 30,
      "metadata": {},
      "outputs": [
        {
          "name": "stdout",
          "output_type": "stream",
          "text": [
            "Model saved as Alzheimer.pth\n"
          ]
        }
      ],
      "source": [
        "print(\"Model saved as Alzheimer.pth\")"
      ]
    }
  ],
  "metadata": {
    "accelerator": "GPU",
    "colab": {
      "gpuType": "T4",
      "provenance": []
    },
    "kernelspec": {
      "display_name": "venv",
      "language": "python",
      "name": "python3"
    },
    "language_info": {
      "codemirror_mode": {
        "name": "ipython",
        "version": 3
      },
      "file_extension": ".py",
      "mimetype": "text/x-python",
      "name": "python",
      "nbconvert_exporter": "python",
      "pygments_lexer": "ipython3",
      "version": "3.10.10"
    }
  },
  "nbformat": 4,
  "nbformat_minor": 0
}
