{
  "cells": [
    {
      "cell_type": "code",
      "execution_count": 13,
      "metadata": {
        "id": "VBeXUIKnXIDG"
      },
      "outputs": [],
      "source": [
        "import torch\n",
        "import torch.nn as nn\n",
        "from torchvision import datasets, transforms,models\n",
        "from torch.utils.data import DataLoader\n"
      ]
    },
    {
      "cell_type": "code",
      "execution_count": 14,
      "metadata": {
        "id": "8l5VdQntYkD-"
      },
      "outputs": [],
      "source": [
        "transform = transforms.Compose([\n",
        "    transforms.Resize((224, 224)),\n",
        "    transforms.RandomHorizontalFlip(),\n",
        "    transforms.RandomRotation(10),\n",
        "    transforms.ColorJitter(brightness=0.2, contrast=0.2),\n",
        "    transforms.ToTensor(),\n",
        "    transforms.Normalize(mean=[0.5, 0.5, 0.5],\n",
        "                         std=[0.5, 0.5, 0.5])\n",
        "])\n"
      ]
    },
    {
      "cell_type": "code",
      "execution_count": 15,
      "metadata": {
        "id": "vgZzo4AwYqEA"
      },
      "outputs": [],
      "source": [
        "train_data = datasets.ImageFolder(\n",
        "    root=r\"chestctscan\\Data\\train\",\n",
        "    transform=transform\n",
        ")\n",
        "\n",
        "test_data = datasets.ImageFolder(\n",
        "    root=r\"chestctscan\\Data\\test\",\n",
        "    transform=transform\n",
        ")\n"
      ]
    },
    {
      "cell_type": "code",
      "execution_count": 16,
      "metadata": {
        "id": "Y0TW0z6QfhSD"
      },
      "outputs": [],
      "source": [
        "train_loader = DataLoader(\n",
        "    train_data, batch_size=8, shuffle=True, num_workers=0, pin_memory=True\n",
        ")\n",
        "test_loader = DataLoader(\n",
        "    test_data, batch_size=8, num_workers=0, pin_memory=True\n",
        ")"
      ]
    },
    {
      "cell_type": "code",
      "execution_count": 17,
      "metadata": {
        "id": "L0YYkFYtfrho"
      },
      "outputs": [],
      "source": [
        "class Chest(nn.Module):\n",
        "  def __init__(self):\n",
        "    super().__init__()\n",
        "    self.base = models.resnet18(pretrained=True)\n",
        "    self.base.fc = nn.Linear(self.base.fc.in_features,4)\n",
        "  def forward(self,x):\n",
        "    return self.base(x)"
      ]
    },
    {
      "cell_type": "code",
      "execution_count": 18,
      "metadata": {
        "colab": {
          "base_uri": "https://localhost:8080/"
        },
        "id": "OHVmOdRcftm1",
        "outputId": "961c8846-8538-4848-fddc-da6601aaefae"
      },
      "outputs": [],
      "source": [
        "device = torch.device(\"cuda\" if torch.cuda.is_available() else \"cpu\")\n",
        "model = Chest().to(device)\n",
        "optimizer = torch.optim.AdamW(model.parameters(), lr=1e-4, weight_decay=1e-4)\n",
        "loss_fn = nn.CrossEntropyLoss()"
      ]
    },
    {
      "cell_type": "code",
      "execution_count": 19,
      "metadata": {
        "colab": {
          "base_uri": "https://localhost:8080/"
        },
        "id": "aB5OyEN8f1rV",
        "outputId": "79996062-87d5-4f4b-804a-bd224ea453a3"
      },
      "outputs": [],
      "source": [
        "!pip install tqdm\n"
      ]
    },
    {
      "cell_type": "code",
      "execution_count": 20,
      "metadata": {
        "id": "Q4WBfHJMf5hw"
      },
      "outputs": [],
      "source": [
        "from tqdm import tqdm\n",
        "def train():\n",
        "  model.train()\n",
        "  total_loss = 0\n",
        "  for images,labels in tqdm(train_loader, desc=\"Training\", leave=False):\n",
        "    images,labels = images.to(device),labels.to(device)\n",
        "    optimizer.zero_grad()\n",
        "    output = model(images)\n",
        "    loss = loss_fn(output,labels)\n",
        "    loss.backward()\n",
        "    optimizer.step()\n",
        "    total_loss += loss.item()\n",
        "  return total_loss/len(train_loader)\n"
      ]
    },
    {
      "cell_type": "code",
      "execution_count": 21,
      "metadata": {
        "id": "6RZraTjggAML"
      },
      "outputs": [],
      "source": [
        "def evaluate():\n",
        "  model.eval()\n",
        "  correct,total = 0,0\n",
        "  with torch.no_grad():\n",
        "    for images, labels in tqdm(test_loader, desc=\"Evaluating\", leave=False):\n",
        "      images,labels = images.to(device),labels.to(device)\n",
        "      preds = torch.argmax(model(images),dim=1)\n",
        "      correct += (preds==labels).sum().item()\n",
        "      total += labels.size(0)\n",
        "  return correct/total"
      ]
    },
    {
      "cell_type": "code",
      "execution_count": 23,
      "metadata": {
        "colab": {
          "base_uri": "https://localhost:8080/"
        },
        "id": "dbVLG8BdgDO2",
        "outputId": "5de7ed98-7c41-43dd-fee3-8d2b3522e5a0"
      },
      "outputs": [
        {
          "name": "stderr",
          "output_type": "stream",
          "text": [
            "Epochs:   3%|▎         | 1/29 [00:08<04:07,  8.84s/it]"
          ]
        },
        {
          "name": "stdout",
          "output_type": "stream",
          "text": [
            "Epoch: 1, Loss: 0.3242, Accuracy: 0.8000\n"
          ]
        },
        {
          "name": "stderr",
          "output_type": "stream",
          "text": [
            "Epochs:   7%|▋         | 2/29 [00:17<03:51,  8.56s/it]"
          ]
        },
        {
          "name": "stdout",
          "output_type": "stream",
          "text": [
            "Epoch: 2, Loss: 0.2439, Accuracy: 0.7778\n"
          ]
        },
        {
          "name": "stderr",
          "output_type": "stream",
          "text": [
            "Epochs:  10%|█         | 3/29 [00:25<03:38,  8.42s/it]"
          ]
        },
        {
          "name": "stdout",
          "output_type": "stream",
          "text": [
            "Epoch: 3, Loss: 0.1714, Accuracy: 0.7968\n"
          ]
        },
        {
          "name": "stderr",
          "output_type": "stream",
          "text": [
            "Epochs:  14%|█▍        | 4/29 [00:33<03:28,  8.36s/it]"
          ]
        },
        {
          "name": "stdout",
          "output_type": "stream",
          "text": [
            "Epoch: 4, Loss: 0.1647, Accuracy: 0.7429\n"
          ]
        },
        {
          "name": "stderr",
          "output_type": "stream",
          "text": [
            "Epochs:  17%|█▋        | 5/29 [00:41<03:19,  8.32s/it]"
          ]
        },
        {
          "name": "stdout",
          "output_type": "stream",
          "text": [
            "Epoch: 5, Loss: 0.1571, Accuracy: 0.8825\n"
          ]
        },
        {
          "name": "stderr",
          "output_type": "stream",
          "text": [
            "Epochs:  21%|██        | 6/29 [00:50<03:10,  8.29s/it]"
          ]
        },
        {
          "name": "stdout",
          "output_type": "stream",
          "text": [
            "Epoch: 6, Loss: 0.0997, Accuracy: 0.8730\n"
          ]
        },
        {
          "name": "stderr",
          "output_type": "stream",
          "text": [
            "Epochs:  24%|██▍       | 7/29 [00:58<03:02,  8.29s/it]"
          ]
        },
        {
          "name": "stdout",
          "output_type": "stream",
          "text": [
            "Epoch: 7, Loss: 0.0965, Accuracy: 0.8413\n"
          ]
        },
        {
          "name": "stderr",
          "output_type": "stream",
          "text": [
            "Epochs:  28%|██▊       | 8/29 [01:06<02:53,  8.27s/it]"
          ]
        },
        {
          "name": "stdout",
          "output_type": "stream",
          "text": [
            "Epoch: 8, Loss: 0.1030, Accuracy: 0.8190\n"
          ]
        },
        {
          "name": "stderr",
          "output_type": "stream",
          "text": [
            "Epochs:  31%|███       | 9/29 [01:14<02:44,  8.23s/it]"
          ]
        },
        {
          "name": "stdout",
          "output_type": "stream",
          "text": [
            "Epoch: 9, Loss: 0.0752, Accuracy: 0.8127\n"
          ]
        },
        {
          "name": "stderr",
          "output_type": "stream",
          "text": [
            "Epochs:  34%|███▍      | 10/29 [01:23<02:36,  8.25s/it]"
          ]
        },
        {
          "name": "stdout",
          "output_type": "stream",
          "text": [
            "Epoch: 10, Loss: 0.0565, Accuracy: 0.8063\n"
          ]
        },
        {
          "name": "stderr",
          "output_type": "stream",
          "text": [
            "Epochs:  38%|███▊      | 11/29 [01:31<02:28,  8.23s/it]"
          ]
        },
        {
          "name": "stdout",
          "output_type": "stream",
          "text": [
            "Epoch: 11, Loss: 0.0376, Accuracy: 0.8857\n"
          ]
        },
        {
          "name": "stderr",
          "output_type": "stream",
          "text": [
            "Epochs:  41%|████▏     | 12/29 [01:39<02:19,  8.21s/it]"
          ]
        },
        {
          "name": "stdout",
          "output_type": "stream",
          "text": [
            "Epoch: 12, Loss: 0.0407, Accuracy: 0.8698\n"
          ]
        },
        {
          "name": "stderr",
          "output_type": "stream",
          "text": [
            "Epochs:  45%|████▍     | 13/29 [01:47<02:10,  8.16s/it]"
          ]
        },
        {
          "name": "stdout",
          "output_type": "stream",
          "text": [
            "Epoch: 13, Loss: 0.0516, Accuracy: 0.8825\n"
          ]
        },
        {
          "name": "stderr",
          "output_type": "stream",
          "text": [
            "Epochs:  48%|████▊     | 14/29 [01:55<02:02,  8.15s/it]"
          ]
        },
        {
          "name": "stdout",
          "output_type": "stream",
          "text": [
            "Epoch: 14, Loss: 0.0353, Accuracy: 0.8825\n"
          ]
        },
        {
          "name": "stderr",
          "output_type": "stream",
          "text": [
            "Epochs:  52%|█████▏    | 15/29 [02:03<01:53,  8.14s/it]"
          ]
        },
        {
          "name": "stdout",
          "output_type": "stream",
          "text": [
            "Epoch: 15, Loss: 0.0486, Accuracy: 0.7873\n"
          ]
        },
        {
          "name": "stderr",
          "output_type": "stream",
          "text": [
            "Epochs:  55%|█████▌    | 16/29 [02:11<01:45,  8.12s/it]"
          ]
        },
        {
          "name": "stdout",
          "output_type": "stream",
          "text": [
            "Epoch: 16, Loss: 0.1049, Accuracy: 0.8381\n"
          ]
        },
        {
          "name": "stderr",
          "output_type": "stream",
          "text": [
            "Epochs:  59%|█████▊    | 17/29 [02:19<01:37,  8.11s/it]"
          ]
        },
        {
          "name": "stdout",
          "output_type": "stream",
          "text": [
            "Epoch: 17, Loss: 0.0407, Accuracy: 0.9016\n"
          ]
        },
        {
          "name": "stderr",
          "output_type": "stream",
          "text": [
            "Epochs:  62%|██████▏   | 18/29 [02:28<01:29,  8.18s/it]"
          ]
        },
        {
          "name": "stdout",
          "output_type": "stream",
          "text": [
            "Epoch: 18, Loss: 0.0344, Accuracy: 0.8762\n"
          ]
        },
        {
          "name": "stderr",
          "output_type": "stream",
          "text": [
            "Epochs:  66%|██████▌   | 19/29 [02:36<01:21,  8.19s/it]"
          ]
        },
        {
          "name": "stdout",
          "output_type": "stream",
          "text": [
            "Epoch: 19, Loss: 0.0484, Accuracy: 0.8571\n"
          ]
        },
        {
          "name": "stderr",
          "output_type": "stream",
          "text": [
            "Epochs:  69%|██████▉   | 20/29 [02:44<01:13,  8.18s/it]"
          ]
        },
        {
          "name": "stdout",
          "output_type": "stream",
          "text": [
            "Epoch: 20, Loss: 0.0425, Accuracy: 0.9111\n"
          ]
        },
        {
          "name": "stderr",
          "output_type": "stream",
          "text": [
            "Epochs:  72%|███████▏  | 21/29 [02:52<01:05,  8.16s/it]"
          ]
        },
        {
          "name": "stdout",
          "output_type": "stream",
          "text": [
            "Epoch: 21, Loss: 0.0491, Accuracy: 0.8667\n"
          ]
        },
        {
          "name": "stderr",
          "output_type": "stream",
          "text": [
            "Epochs:  76%|███████▌  | 22/29 [03:00<00:56,  8.12s/it]"
          ]
        },
        {
          "name": "stdout",
          "output_type": "stream",
          "text": [
            "Epoch: 22, Loss: 0.0733, Accuracy: 0.8286\n"
          ]
        },
        {
          "name": "stderr",
          "output_type": "stream",
          "text": [
            "Epochs:  79%|███████▉  | 23/29 [03:09<00:48,  8.17s/it]"
          ]
        },
        {
          "name": "stdout",
          "output_type": "stream",
          "text": [
            "Epoch: 23, Loss: 0.0331, Accuracy: 0.9079\n"
          ]
        },
        {
          "name": "stderr",
          "output_type": "stream",
          "text": [
            "Epochs:  83%|████████▎ | 24/29 [03:17<00:40,  8.18s/it]"
          ]
        },
        {
          "name": "stdout",
          "output_type": "stream",
          "text": [
            "Epoch: 24, Loss: 0.0261, Accuracy: 0.8413\n"
          ]
        },
        {
          "name": "stderr",
          "output_type": "stream",
          "text": [
            "Epochs:  86%|████████▌ | 25/29 [03:25<00:32,  8.16s/it]"
          ]
        },
        {
          "name": "stdout",
          "output_type": "stream",
          "text": [
            "Epoch: 25, Loss: 0.0334, Accuracy: 0.8286\n"
          ]
        },
        {
          "name": "stderr",
          "output_type": "stream",
          "text": [
            "Epochs:  90%|████████▉ | 26/29 [03:33<00:24,  8.18s/it]"
          ]
        },
        {
          "name": "stdout",
          "output_type": "stream",
          "text": [
            "Epoch: 26, Loss: 0.0268, Accuracy: 0.7810\n"
          ]
        },
        {
          "name": "stderr",
          "output_type": "stream",
          "text": [
            "Epochs:  93%|█████████▎| 27/29 [03:41<00:16,  8.19s/it]"
          ]
        },
        {
          "name": "stdout",
          "output_type": "stream",
          "text": [
            "Epoch: 27, Loss: 0.0372, Accuracy: 0.9365\n"
          ]
        },
        {
          "name": "stderr",
          "output_type": "stream",
          "text": [
            "Epochs:  97%|█████████▋| 28/29 [03:50<00:08,  8.23s/it]"
          ]
        },
        {
          "name": "stdout",
          "output_type": "stream",
          "text": [
            "Epoch: 28, Loss: 0.0389, Accuracy: 0.8413\n"
          ]
        },
        {
          "name": "stderr",
          "output_type": "stream",
          "text": [
            "Epochs: 100%|██████████| 29/29 [03:58<00:00,  8.22s/it]"
          ]
        },
        {
          "name": "stdout",
          "output_type": "stream",
          "text": [
            "Epoch: 29, Loss: 0.0358, Accuracy: 0.8889\n"
          ]
        },
        {
          "name": "stderr",
          "output_type": "stream",
          "text": [
            "\n"
          ]
        }
      ],
      "source": [
        "for epoch in tqdm(range(1, 30), desc=\"Epochs\"):\n",
        "  avg_loss = train()\n",
        "  acc = evaluate()\n",
        "  print(f\"Epoch: {epoch}, Loss: {avg_loss:.4f}, Accuracy: {acc:.4f}\")"
      ]
    },
    {
      "cell_type": "code",
      "execution_count": 24,
      "metadata": {
        "id": "AKAtQuqCgkww"
      },
      "outputs": [],
      "source": [
        "torch.save(model.state_dict(), \"chestmri.pth\")"
      ]
    },
    {
      "cell_type": "code",
      "execution_count": 25,
      "metadata": {},
      "outputs": [
        {
          "name": "stdout",
          "output_type": "stream",
          "text": [
            "Model saved as chestmri.pth\n"
          ]
        }
      ],
      "source": [
        "print(\"Model saved as chestmri.pth\")"
      ]
    },
    {
      "cell_type": "code",
      "execution_count": null,
      "metadata": {},
      "outputs": [
        {
          "data": {
            "text/plain": [
              "<function list.count(value, /)>"
            ]
          },
          "execution_count": 30,
          "metadata": {},
          "output_type": "execute_result"
        }
      ],
      "source": []
    },
    {
      "cell_type": "code",
      "execution_count": null,
      "metadata": {},
      "outputs": [],
      "source": []
    }
  ],
  "metadata": {
    "accelerator": "GPU",
    "colab": {
      "gpuType": "T4",
      "provenance": []
    },
    "kernelspec": {
      "display_name": "venv",
      "language": "python",
      "name": "python3"
    },
    "language_info": {
      "codemirror_mode": {
        "name": "ipython",
        "version": 3
      },
      "file_extension": ".py",
      "mimetype": "text/x-python",
      "name": "python",
      "nbconvert_exporter": "python",
      "pygments_lexer": "ipython3",
      "version": "3.10.10"
    }
  },
  "nbformat": 4,
  "nbformat_minor": 0
}
